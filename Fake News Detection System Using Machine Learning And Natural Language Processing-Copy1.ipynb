{
 "cells": [
  {
   "cell_type": "markdown",
   "metadata": {},
   "source": [
    "## Imports\n",
    " **Import the usual suspects. :) **\n"
   ]
  },
  {
   "cell_type": "code",
   "execution_count": 1,
   "metadata": {},
   "outputs": [],
   "source": [
    "import nltk\n",
    "import numpy as np\n",
    "import pandas as pd \n",
    "import seaborn as sns\n",
    "import matplotlib.pyplot as plt\n",
    "%matplotlib inline"
   ]
  },
  {
   "cell_type": "markdown",
   "metadata": {},
   "source": [
    "## The Data"
   ]
  },
  {
   "cell_type": "code",
   "execution_count": 2,
   "metadata": {},
   "outputs": [],
   "source": [
    "truenews = pd.read_csv(\"True.csv\")\n",
    "fakenews = pd.read_csv(\"Fake.csv\")"
   ]
  },
  {
   "cell_type": "code",
   "execution_count": 3,
   "metadata": {},
   "outputs": [
    {
     "data": {
      "text/html": [
       "<div>\n",
       "<style scoped>\n",
       "    .dataframe tbody tr th:only-of-type {\n",
       "        vertical-align: middle;\n",
       "    }\n",
       "\n",
       "    .dataframe tbody tr th {\n",
       "        vertical-align: top;\n",
       "    }\n",
       "\n",
       "    .dataframe thead th {\n",
       "        text-align: right;\n",
       "    }\n",
       "</style>\n",
       "<table border=\"1\" class=\"dataframe\">\n",
       "  <thead>\n",
       "    <tr style=\"text-align: right;\">\n",
       "      <th></th>\n",
       "      <th>title</th>\n",
       "      <th>text</th>\n",
       "      <th>subject</th>\n",
       "      <th>date</th>\n",
       "      <th>True/Fake</th>\n",
       "    </tr>\n",
       "  </thead>\n",
       "  <tbody>\n",
       "    <tr>\n",
       "      <td>0</td>\n",
       "      <td>As U.S. budget fight looms, Republicans flip t...</td>\n",
       "      <td>WASHINGTON (Reuters) - The head of a conservat...</td>\n",
       "      <td>politicsNews</td>\n",
       "      <td>December 31, 2017</td>\n",
       "      <td>True</td>\n",
       "    </tr>\n",
       "    <tr>\n",
       "      <td>1</td>\n",
       "      <td>U.S. military to accept transgender recruits o...</td>\n",
       "      <td>WASHINGTON (Reuters) - Transgender people will...</td>\n",
       "      <td>politicsNews</td>\n",
       "      <td>December 29, 2017</td>\n",
       "      <td>True</td>\n",
       "    </tr>\n",
       "    <tr>\n",
       "      <td>2</td>\n",
       "      <td>Senior U.S. Republican senator: 'Let Mr. Muell...</td>\n",
       "      <td>WASHINGTON (Reuters) - The special counsel inv...</td>\n",
       "      <td>politicsNews</td>\n",
       "      <td>December 31, 2017</td>\n",
       "      <td>True</td>\n",
       "    </tr>\n",
       "    <tr>\n",
       "      <td>3</td>\n",
       "      <td>FBI Russia probe helped by Australian diplomat...</td>\n",
       "      <td>WASHINGTON (Reuters) - Trump campaign adviser ...</td>\n",
       "      <td>politicsNews</td>\n",
       "      <td>December 30, 2017</td>\n",
       "      <td>True</td>\n",
       "    </tr>\n",
       "    <tr>\n",
       "      <td>4</td>\n",
       "      <td>Trump wants Postal Service to charge 'much mor...</td>\n",
       "      <td>SEATTLE/WASHINGTON (Reuters) - President Donal...</td>\n",
       "      <td>politicsNews</td>\n",
       "      <td>December 29, 2017</td>\n",
       "      <td>True</td>\n",
       "    </tr>\n",
       "  </tbody>\n",
       "</table>\n",
       "</div>"
      ],
      "text/plain": [
       "                                               title  \\\n",
       "0  As U.S. budget fight looms, Republicans flip t...   \n",
       "1  U.S. military to accept transgender recruits o...   \n",
       "2  Senior U.S. Republican senator: 'Let Mr. Muell...   \n",
       "3  FBI Russia probe helped by Australian diplomat...   \n",
       "4  Trump wants Postal Service to charge 'much mor...   \n",
       "\n",
       "                                                text       subject  \\\n",
       "0  WASHINGTON (Reuters) - The head of a conservat...  politicsNews   \n",
       "1  WASHINGTON (Reuters) - Transgender people will...  politicsNews   \n",
       "2  WASHINGTON (Reuters) - The special counsel inv...  politicsNews   \n",
       "3  WASHINGTON (Reuters) - Trump campaign adviser ...  politicsNews   \n",
       "4  SEATTLE/WASHINGTON (Reuters) - President Donal...  politicsNews   \n",
       "\n",
       "                 date True/Fake  \n",
       "0  December 31, 2017       True  \n",
       "1  December 29, 2017       True  \n",
       "2  December 31, 2017       True  \n",
       "3  December 30, 2017       True  \n",
       "4  December 29, 2017       True  "
      ]
     },
     "execution_count": 3,
     "metadata": {},
     "output_type": "execute_result"
    }
   ],
   "source": [
    "truenews.head()"
   ]
  },
  {
   "cell_type": "code",
   "execution_count": 4,
   "metadata": {},
   "outputs": [
    {
     "data": {
      "text/html": [
       "<div>\n",
       "<style scoped>\n",
       "    .dataframe tbody tr th:only-of-type {\n",
       "        vertical-align: middle;\n",
       "    }\n",
       "\n",
       "    .dataframe tbody tr th {\n",
       "        vertical-align: top;\n",
       "    }\n",
       "\n",
       "    .dataframe thead th {\n",
       "        text-align: right;\n",
       "    }\n",
       "</style>\n",
       "<table border=\"1\" class=\"dataframe\">\n",
       "  <thead>\n",
       "    <tr style=\"text-align: right;\">\n",
       "      <th></th>\n",
       "      <th>title</th>\n",
       "      <th>text</th>\n",
       "      <th>subject</th>\n",
       "      <th>date</th>\n",
       "      <th>True/Fake</th>\n",
       "    </tr>\n",
       "  </thead>\n",
       "  <tbody>\n",
       "    <tr>\n",
       "      <td>0</td>\n",
       "      <td>Donald Trump Sends Out Embarrassing New Year’...</td>\n",
       "      <td>Donald Trump just couldn t wish all Americans ...</td>\n",
       "      <td>News</td>\n",
       "      <td>December 31, 2017</td>\n",
       "      <td>Fake</td>\n",
       "    </tr>\n",
       "    <tr>\n",
       "      <td>1</td>\n",
       "      <td>Drunk Bragging Trump Staffer Started Russian ...</td>\n",
       "      <td>House Intelligence Committee Chairman Devin Nu...</td>\n",
       "      <td>News</td>\n",
       "      <td>December 31, 2017</td>\n",
       "      <td>Fake</td>\n",
       "    </tr>\n",
       "    <tr>\n",
       "      <td>2</td>\n",
       "      <td>Sheriff David Clarke Becomes An Internet Joke...</td>\n",
       "      <td>On Friday, it was revealed that former Milwauk...</td>\n",
       "      <td>News</td>\n",
       "      <td>December 30, 2017</td>\n",
       "      <td>Fake</td>\n",
       "    </tr>\n",
       "    <tr>\n",
       "      <td>3</td>\n",
       "      <td>Trump Is So Obsessed He Even Has Obama’s Name...</td>\n",
       "      <td>On Christmas day, Donald Trump announced that ...</td>\n",
       "      <td>News</td>\n",
       "      <td>December 29, 2017</td>\n",
       "      <td>Fake</td>\n",
       "    </tr>\n",
       "    <tr>\n",
       "      <td>4</td>\n",
       "      <td>Pope Francis Just Called Out Donald Trump Dur...</td>\n",
       "      <td>Pope Francis used his annual Christmas Day mes...</td>\n",
       "      <td>News</td>\n",
       "      <td>December 25, 2017</td>\n",
       "      <td>Fake</td>\n",
       "    </tr>\n",
       "  </tbody>\n",
       "</table>\n",
       "</div>"
      ],
      "text/plain": [
       "                                               title  \\\n",
       "0   Donald Trump Sends Out Embarrassing New Year’...   \n",
       "1   Drunk Bragging Trump Staffer Started Russian ...   \n",
       "2   Sheriff David Clarke Becomes An Internet Joke...   \n",
       "3   Trump Is So Obsessed He Even Has Obama’s Name...   \n",
       "4   Pope Francis Just Called Out Donald Trump Dur...   \n",
       "\n",
       "                                                text subject  \\\n",
       "0  Donald Trump just couldn t wish all Americans ...    News   \n",
       "1  House Intelligence Committee Chairman Devin Nu...    News   \n",
       "2  On Friday, it was revealed that former Milwauk...    News   \n",
       "3  On Christmas day, Donald Trump announced that ...    News   \n",
       "4  Pope Francis used his annual Christmas Day mes...    News   \n",
       "\n",
       "                date True/Fake  \n",
       "0  December 31, 2017      Fake  \n",
       "1  December 31, 2017      Fake  \n",
       "2  December 30, 2017      Fake  \n",
       "3  December 29, 2017      Fake  \n",
       "4  December 25, 2017      Fake  "
      ]
     },
     "execution_count": 4,
     "metadata": {},
     "output_type": "execute_result"
    }
   ],
   "source": [
    "fakenews.head()"
   ]
  },
  {
   "cell_type": "code",
   "execution_count": 5,
   "metadata": {},
   "outputs": [
    {
     "data": {
      "text/html": [
       "<div>\n",
       "<style scoped>\n",
       "    .dataframe tbody tr th:only-of-type {\n",
       "        vertical-align: middle;\n",
       "    }\n",
       "\n",
       "    .dataframe tbody tr th {\n",
       "        vertical-align: top;\n",
       "    }\n",
       "\n",
       "    .dataframe thead th {\n",
       "        text-align: right;\n",
       "    }\n",
       "</style>\n",
       "<table border=\"1\" class=\"dataframe\">\n",
       "  <thead>\n",
       "    <tr style=\"text-align: right;\">\n",
       "      <th></th>\n",
       "      <th>title</th>\n",
       "      <th>text</th>\n",
       "      <th>subject</th>\n",
       "      <th>date</th>\n",
       "      <th>True/Fake</th>\n",
       "    </tr>\n",
       "  </thead>\n",
       "  <tbody>\n",
       "    <tr>\n",
       "      <td>count</td>\n",
       "      <td>23481</td>\n",
       "      <td>23481</td>\n",
       "      <td>23481</td>\n",
       "      <td>23481</td>\n",
       "      <td>23481</td>\n",
       "    </tr>\n",
       "    <tr>\n",
       "      <td>unique</td>\n",
       "      <td>17903</td>\n",
       "      <td>17455</td>\n",
       "      <td>6</td>\n",
       "      <td>1681</td>\n",
       "      <td>1</td>\n",
       "    </tr>\n",
       "    <tr>\n",
       "      <td>top</td>\n",
       "      <td>MEDIA IGNORES Time That Bill Clinton FIRED His...</td>\n",
       "      <td></td>\n",
       "      <td>News</td>\n",
       "      <td>May 10, 2017</td>\n",
       "      <td>Fake</td>\n",
       "    </tr>\n",
       "    <tr>\n",
       "      <td>freq</td>\n",
       "      <td>6</td>\n",
       "      <td>626</td>\n",
       "      <td>9050</td>\n",
       "      <td>46</td>\n",
       "      <td>23481</td>\n",
       "    </tr>\n",
       "  </tbody>\n",
       "</table>\n",
       "</div>"
      ],
      "text/plain": [
       "                                                    title   text subject  \\\n",
       "count                                               23481  23481   23481   \n",
       "unique                                              17903  17455       6   \n",
       "top     MEDIA IGNORES Time That Bill Clinton FIRED His...           News   \n",
       "freq                                                    6    626    9050   \n",
       "\n",
       "                date True/Fake  \n",
       "count          23481     23481  \n",
       "unique          1681         1  \n",
       "top     May 10, 2017      Fake  \n",
       "freq              46     23481  "
      ]
     },
     "execution_count": 5,
     "metadata": {},
     "output_type": "execute_result"
    }
   ],
   "source": [
    "fakenews.describe()"
   ]
  },
  {
   "cell_type": "code",
   "execution_count": 6,
   "metadata": {},
   "outputs": [
    {
     "data": {
      "text/html": [
       "<div>\n",
       "<style scoped>\n",
       "    .dataframe tbody tr th:only-of-type {\n",
       "        vertical-align: middle;\n",
       "    }\n",
       "\n",
       "    .dataframe tbody tr th {\n",
       "        vertical-align: top;\n",
       "    }\n",
       "\n",
       "    .dataframe thead th {\n",
       "        text-align: right;\n",
       "    }\n",
       "</style>\n",
       "<table border=\"1\" class=\"dataframe\">\n",
       "  <thead>\n",
       "    <tr style=\"text-align: right;\">\n",
       "      <th></th>\n",
       "      <th>title</th>\n",
       "      <th>text</th>\n",
       "      <th>subject</th>\n",
       "      <th>date</th>\n",
       "      <th>True/Fake</th>\n",
       "    </tr>\n",
       "  </thead>\n",
       "  <tbody>\n",
       "    <tr>\n",
       "      <td>count</td>\n",
       "      <td>21417</td>\n",
       "      <td>21417</td>\n",
       "      <td>21417</td>\n",
       "      <td>21417</td>\n",
       "      <td>21417</td>\n",
       "    </tr>\n",
       "    <tr>\n",
       "      <td>unique</td>\n",
       "      <td>20826</td>\n",
       "      <td>21192</td>\n",
       "      <td>2</td>\n",
       "      <td>716</td>\n",
       "      <td>1</td>\n",
       "    </tr>\n",
       "    <tr>\n",
       "      <td>top</td>\n",
       "      <td>Factbox: Trump fills top jobs for his administ...</td>\n",
       "      <td>(Reuters) - Highlights for U.S. President Dona...</td>\n",
       "      <td>politicsNews</td>\n",
       "      <td>December 20, 2017</td>\n",
       "      <td>True</td>\n",
       "    </tr>\n",
       "    <tr>\n",
       "      <td>freq</td>\n",
       "      <td>14</td>\n",
       "      <td>8</td>\n",
       "      <td>11272</td>\n",
       "      <td>182</td>\n",
       "      <td>21417</td>\n",
       "    </tr>\n",
       "  </tbody>\n",
       "</table>\n",
       "</div>"
      ],
      "text/plain": [
       "                                                    title  \\\n",
       "count                                               21417   \n",
       "unique                                              20826   \n",
       "top     Factbox: Trump fills top jobs for his administ...   \n",
       "freq                                                   14   \n",
       "\n",
       "                                                     text       subject  \\\n",
       "count                                               21417         21417   \n",
       "unique                                              21192             2   \n",
       "top     (Reuters) - Highlights for U.S. President Dona...  politicsNews   \n",
       "freq                                                    8         11272   \n",
       "\n",
       "                      date True/Fake  \n",
       "count                21417     21417  \n",
       "unique                 716         1  \n",
       "top     December 20, 2017       True  \n",
       "freq                   182     21417  "
      ]
     },
     "execution_count": 6,
     "metadata": {},
     "output_type": "execute_result"
    }
   ],
   "source": [
    "truenews.describe()"
   ]
  },
  {
   "cell_type": "markdown",
   "metadata": {},
   "source": [
    "## Combine the 2 DataFrames into a single data frame"
   ]
  },
  {
   "cell_type": "code",
   "execution_count": 7,
   "metadata": {},
   "outputs": [],
   "source": [
    "news = pd.concat([truenews, fakenews])"
   ]
  },
  {
   "cell_type": "code",
   "execution_count": 8,
   "metadata": {},
   "outputs": [
    {
     "name": "stdout",
     "output_type": "stream",
     "text": [
      "<class 'pandas.core.frame.DataFrame'>\n",
      "Int64Index: 44898 entries, 0 to 23480\n",
      "Data columns (total 5 columns):\n",
      "title        44898 non-null object\n",
      "text         44898 non-null object\n",
      "subject      44898 non-null object\n",
      "date         44898 non-null object\n",
      "True/Fake    44898 non-null object\n",
      "dtypes: object(5)\n",
      "memory usage: 2.1+ MB\n"
     ]
    }
   ],
   "source": [
    "news.info()"
   ]
  },
  {
   "cell_type": "code",
   "execution_count": 9,
   "metadata": {},
   "outputs": [
    {
     "data": {
      "text/html": [
       "<div>\n",
       "<style scoped>\n",
       "    .dataframe tbody tr th:only-of-type {\n",
       "        vertical-align: middle;\n",
       "    }\n",
       "\n",
       "    .dataframe tbody tr th {\n",
       "        vertical-align: top;\n",
       "    }\n",
       "\n",
       "    .dataframe thead th {\n",
       "        text-align: right;\n",
       "    }\n",
       "</style>\n",
       "<table border=\"1\" class=\"dataframe\">\n",
       "  <thead>\n",
       "    <tr style=\"text-align: right;\">\n",
       "      <th></th>\n",
       "      <th>title</th>\n",
       "      <th>text</th>\n",
       "      <th>subject</th>\n",
       "      <th>date</th>\n",
       "      <th>True/Fake</th>\n",
       "      <th>Article</th>\n",
       "    </tr>\n",
       "  </thead>\n",
       "  <tbody>\n",
       "    <tr>\n",
       "      <td>6509</td>\n",
       "      <td>U.S. obtained evidence after election that Rus...</td>\n",
       "      <td>WASHINGTON (Reuters) - U.S. intelligence agen...</td>\n",
       "      <td>politicsNews</td>\n",
       "      <td>January 5, 2017</td>\n",
       "      <td>True</td>\n",
       "      <td>U.S. obtained evidence after election that Rus...</td>\n",
       "    </tr>\n",
       "    <tr>\n",
       "      <td>1466</td>\n",
       "      <td>U.S. will admit up to 45,000 refugees next yea...</td>\n",
       "      <td>WASHINGTON (Reuters) - The United States will ...</td>\n",
       "      <td>politicsNews</td>\n",
       "      <td>September 29, 2017</td>\n",
       "      <td>True</td>\n",
       "      <td>U.S. will admit up to 45,000 refugees next yea...</td>\n",
       "    </tr>\n",
       "    <tr>\n",
       "      <td>8601</td>\n",
       "      <td>Oops: Ammosexual Playing With Gun During Beng...</td>\n",
       "      <td>Thinking about going to the movies? You might ...</td>\n",
       "      <td>News</td>\n",
       "      <td>January 22, 2016</td>\n",
       "      <td>Fake</td>\n",
       "      <td>Oops: Ammosexual Playing With Gun During Beng...</td>\n",
       "    </tr>\n",
       "    <tr>\n",
       "      <td>15836</td>\n",
       "      <td>Russian Defense Minister meets U.S. envoy to M...</td>\n",
       "      <td>MOSCOW (Reuters) - Russian Defense Minister Se...</td>\n",
       "      <td>worldnews</td>\n",
       "      <td>November 2, 2017</td>\n",
       "      <td>True</td>\n",
       "      <td>Russian Defense Minister meets U.S. envoy to M...</td>\n",
       "    </tr>\n",
       "    <tr>\n",
       "      <td>421</td>\n",
       "      <td>Trump taps Fifth Third lawyer McWilliams to le...</td>\n",
       "      <td>WASHINGTON (Reuters) - U.S. President Donald T...</td>\n",
       "      <td>politicsNews</td>\n",
       "      <td>December 1, 2017</td>\n",
       "      <td>True</td>\n",
       "      <td>Trump taps Fifth Third lawyer McWilliams to le...</td>\n",
       "    </tr>\n",
       "    <tr>\n",
       "      <td>...</td>\n",
       "      <td>...</td>\n",
       "      <td>...</td>\n",
       "      <td>...</td>\n",
       "      <td>...</td>\n",
       "      <td>...</td>\n",
       "      <td>...</td>\n",
       "    </tr>\n",
       "    <tr>\n",
       "      <td>14720</td>\n",
       "      <td>Serial Plagiarist Does Victory Dance Over Whit...</td>\n",
       "      <td>White people the only lives that DON T matter....</td>\n",
       "      <td>politics</td>\n",
       "      <td>Jan 2, 2016</td>\n",
       "      <td>Fake</td>\n",
       "      <td>Serial Plagiarist Does Victory Dance Over Whit...</td>\n",
       "    </tr>\n",
       "    <tr>\n",
       "      <td>2518</td>\n",
       "      <td>Factbox: Trump on Twitter (July 26) - U.S. Mil...</td>\n",
       "      <td>The following statements were posted to the ve...</td>\n",
       "      <td>politicsNews</td>\n",
       "      <td>July 26, 2017</td>\n",
       "      <td>True</td>\n",
       "      <td>Factbox: Trump on Twitter (July 26) - U.S. Mil...</td>\n",
       "    </tr>\n",
       "    <tr>\n",
       "      <td>22542</td>\n",
       "      <td>Boiler Room #61 – Hello From the Gutter</td>\n",
       "      <td>Tune in to the Alternate Current Radio Network...</td>\n",
       "      <td>US_News</td>\n",
       "      <td>June 16, 2016</td>\n",
       "      <td>Fake</td>\n",
       "      <td>Boiler Room #61 – Hello From the GutterTune in...</td>\n",
       "    </tr>\n",
       "    <tr>\n",
       "      <td>1982</td>\n",
       "      <td>Trump’s ‘Deportation Force’ Storms Unarmed Le...</td>\n",
       "      <td>A Chicago man is in critical condition after t...</td>\n",
       "      <td>News</td>\n",
       "      <td>March 27, 2017</td>\n",
       "      <td>Fake</td>\n",
       "      <td>Trump’s ‘Deportation Force’ Storms Unarmed Le...</td>\n",
       "    </tr>\n",
       "    <tr>\n",
       "      <td>9004</td>\n",
       "      <td>Here Are The Right-Wing Scumbags The Bundy Mi...</td>\n",
       "      <td>When the tense standoff between federal agents...</td>\n",
       "      <td>News</td>\n",
       "      <td>January 3, 2016</td>\n",
       "      <td>Fake</td>\n",
       "      <td>Here Are The Right-Wing Scumbags The Bundy Mi...</td>\n",
       "    </tr>\n",
       "  </tbody>\n",
       "</table>\n",
       "<p>44898 rows × 6 columns</p>\n",
       "</div>"
      ],
      "text/plain": [
       "                                                   title  \\\n",
       "6509   U.S. obtained evidence after election that Rus...   \n",
       "1466   U.S. will admit up to 45,000 refugees next yea...   \n",
       "8601    Oops: Ammosexual Playing With Gun During Beng...   \n",
       "15836  Russian Defense Minister meets U.S. envoy to M...   \n",
       "421    Trump taps Fifth Third lawyer McWilliams to le...   \n",
       "...                                                  ...   \n",
       "14720  Serial Plagiarist Does Victory Dance Over Whit...   \n",
       "2518   Factbox: Trump on Twitter (July 26) - U.S. Mil...   \n",
       "22542            Boiler Room #61 – Hello From the Gutter   \n",
       "1982    Trump’s ‘Deportation Force’ Storms Unarmed Le...   \n",
       "9004    Here Are The Right-Wing Scumbags The Bundy Mi...   \n",
       "\n",
       "                                                    text       subject  \\\n",
       "6509    WASHINGTON (Reuters) - U.S. intelligence agen...  politicsNews   \n",
       "1466   WASHINGTON (Reuters) - The United States will ...  politicsNews   \n",
       "8601   Thinking about going to the movies? You might ...          News   \n",
       "15836  MOSCOW (Reuters) - Russian Defense Minister Se...     worldnews   \n",
       "421    WASHINGTON (Reuters) - U.S. President Donald T...  politicsNews   \n",
       "...                                                  ...           ...   \n",
       "14720  White people the only lives that DON T matter....      politics   \n",
       "2518   The following statements were posted to the ve...  politicsNews   \n",
       "22542  Tune in to the Alternate Current Radio Network...       US_News   \n",
       "1982   A Chicago man is in critical condition after t...          News   \n",
       "9004   When the tense standoff between federal agents...          News   \n",
       "\n",
       "                      date True/Fake  \\\n",
       "6509      January 5, 2017       True   \n",
       "1466   September 29, 2017       True   \n",
       "8601      January 22, 2016      Fake   \n",
       "15836    November 2, 2017       True   \n",
       "421      December 1, 2017       True   \n",
       "...                    ...       ...   \n",
       "14720          Jan 2, 2016      Fake   \n",
       "2518        July 26, 2017       True   \n",
       "22542        June 16, 2016      Fake   \n",
       "1982        March 27, 2017      Fake   \n",
       "9004       January 3, 2016      Fake   \n",
       "\n",
       "                                                 Article  \n",
       "6509   U.S. obtained evidence after election that Rus...  \n",
       "1466   U.S. will admit up to 45,000 refugees next yea...  \n",
       "8601    Oops: Ammosexual Playing With Gun During Beng...  \n",
       "15836  Russian Defense Minister meets U.S. envoy to M...  \n",
       "421    Trump taps Fifth Third lawyer McWilliams to le...  \n",
       "...                                                  ...  \n",
       "14720  Serial Plagiarist Does Victory Dance Over Whit...  \n",
       "2518   Factbox: Trump on Twitter (July 26) - U.S. Mil...  \n",
       "22542  Boiler Room #61 – Hello From the GutterTune in...  \n",
       "1982    Trump’s ‘Deportation Force’ Storms Unarmed Le...  \n",
       "9004    Here Are The Right-Wing Scumbags The Bundy Mi...  \n",
       "\n",
       "[44898 rows x 6 columns]"
      ]
     },
     "execution_count": 9,
     "metadata": {},
     "output_type": "execute_result"
    }
   ],
   "source": [
    "news[\"Article\"] = news[\"title\"] + news[\"text\"]\n",
    "news.sample(frac = 1)"
   ]
  },
  {
   "cell_type": "code",
   "execution_count": null,
   "metadata": {},
   "outputs": [],
   "source": []
  },
  {
   "cell_type": "markdown",
   "metadata": {},
   "source": [
    "## Data Cleaning"
   ]
  },
  {
   "cell_type": "code",
   "execution_count": 10,
   "metadata": {},
   "outputs": [
    {
     "data": {
      "text/plain": [
       "title        0\n",
       "text         0\n",
       "subject      0\n",
       "date         0\n",
       "True/Fake    0\n",
       "Article      0\n",
       "dtype: int64"
      ]
     },
     "execution_count": 10,
     "metadata": {},
     "output_type": "execute_result"
    }
   ],
   "source": [
    "news.isnull().sum()"
   ]
  },
  {
   "cell_type": "code",
   "execution_count": 11,
   "metadata": {},
   "outputs": [],
   "source": [
    "from nltk.corpus import stopwords\n",
    "import string"
   ]
  },
  {
   "cell_type": "code",
   "execution_count": 12,
   "metadata": {},
   "outputs": [],
   "source": [
    "def Text_processing(s):\n",
    "\n",
    "    # Check string to see if they are a punctuation\n",
    "    nopunc = [char for char in s if char not in string.punctuation]\n",
    "\n",
    "    # Join the characters again to form the string.\n",
    "    nopunc = ''.join(nopunc)\n",
    "    \n",
    "    # stopwords\n",
    "    clean_string = [word for word in nopunc.split() if word.lower() not in stopwords.words('english')]\n",
    "    return clean_string"
   ]
  },
  {
   "cell_type": "markdown",
   "metadata": {},
   "source": [
    "## Tokenize the Article"
   ]
  },
  {
   "cell_type": "code",
   "execution_count": 13,
   "metadata": {},
   "outputs": [
    {
     "data": {
      "text/plain": [
       "<bound method DataFrame.info of                                                  Article\n",
       "0      As U.S. budget fight looms, Republicans flip t...\n",
       "1      U.S. military to accept transgender recruits o...\n",
       "2      Senior U.S. Republican senator: 'Let Mr. Muell...\n",
       "3      FBI Russia probe helped by Australian diplomat...\n",
       "4      Trump wants Postal Service to charge 'much mor...\n",
       "...                                                  ...\n",
       "23476  McPain: John McCain Furious That Iran Treated ...\n",
       "23477  JUSTICE? Yahoo Settles E-mail Privacy Class-ac...\n",
       "23478  Sunnistan: US and Allied ‘Safe Zone’ Plan to T...\n",
       "23479  How to Blow $700 Million: Al Jazeera America F...\n",
       "23480  10 U.S. Navy Sailors Held by Iranian Military ...\n",
       "\n",
       "[44898 rows x 1 columns]>"
      ]
     },
     "execution_count": 13,
     "metadata": {},
     "output_type": "execute_result"
    }
   ],
   "source": [
    "news[[\"Article\"]].info"
   ]
  },
  {
   "cell_type": "code",
   "execution_count": 14,
   "metadata": {},
   "outputs": [
    {
     "name": "stdout",
     "output_type": "stream",
     "text": [
      "Wall time: 2h 25min 33s\n"
     ]
    }
   ],
   "source": [
    "%%time\n",
    "news['Clean Text'] = news['Article'].apply(Text_processing)"
   ]
  },
  {
   "cell_type": "code",
   "execution_count": 15,
   "metadata": {},
   "outputs": [
    {
     "data": {
      "text/html": [
       "<div>\n",
       "<style scoped>\n",
       "    .dataframe tbody tr th:only-of-type {\n",
       "        vertical-align: middle;\n",
       "    }\n",
       "\n",
       "    .dataframe tbody tr th {\n",
       "        vertical-align: top;\n",
       "    }\n",
       "\n",
       "    .dataframe thead th {\n",
       "        text-align: right;\n",
       "    }\n",
       "</style>\n",
       "<table border=\"1\" class=\"dataframe\">\n",
       "  <thead>\n",
       "    <tr style=\"text-align: right;\">\n",
       "      <th></th>\n",
       "      <th>title</th>\n",
       "      <th>text</th>\n",
       "      <th>subject</th>\n",
       "      <th>date</th>\n",
       "      <th>True/Fake</th>\n",
       "      <th>Article</th>\n",
       "      <th>Clean Text</th>\n",
       "    </tr>\n",
       "  </thead>\n",
       "  <tbody>\n",
       "    <tr>\n",
       "      <td>9575</td>\n",
       "      <td>JUST IN: Obama Campaign Secretly Paid $972,000...</td>\n",
       "      <td>Well, well, well As a famous  reverend  once s...</td>\n",
       "      <td>politics</td>\n",
       "      <td>Oct 29, 2017</td>\n",
       "      <td>Fake</td>\n",
       "      <td>JUST IN: Obama Campaign Secretly Paid $972,000...</td>\n",
       "      <td>[Obama, Campaign, Secretly, Paid, 972000, Fund...</td>\n",
       "    </tr>\n",
       "    <tr>\n",
       "      <td>15238</td>\n",
       "      <td>Lithuania says east-west schism within EU bene...</td>\n",
       "      <td>WARSAW (Reuters) - Lithuania said a growing ri...</td>\n",
       "      <td>worldnews</td>\n",
       "      <td>November 9, 2017</td>\n",
       "      <td>True</td>\n",
       "      <td>Lithuania says east-west schism within EU bene...</td>\n",
       "      <td>[Lithuania, says, eastwest, schism, within, EU...</td>\n",
       "    </tr>\n",
       "    <tr>\n",
       "      <td>5275</td>\n",
       "      <td>In sweeping move, Trump puts regulation monito...</td>\n",
       "      <td>WASHINGTON (Reuters) - President Donald Trump ...</td>\n",
       "      <td>politicsNews</td>\n",
       "      <td>February 24, 2017</td>\n",
       "      <td>True</td>\n",
       "      <td>In sweeping move, Trump puts regulation monito...</td>\n",
       "      <td>[sweeping, move, Trump, puts, regulation, moni...</td>\n",
       "    </tr>\n",
       "    <tr>\n",
       "      <td>10814</td>\n",
       "      <td>CNN REPORTER EMBARRASSES Himself With Idiotic ...</td>\n",
       "      <td>Bob Schieffer is an old-school newsman. There ...</td>\n",
       "      <td>politics</td>\n",
       "      <td>May 22, 2017</td>\n",
       "      <td>Fake</td>\n",
       "      <td>CNN REPORTER EMBARRASSES Himself With Idiotic ...</td>\n",
       "      <td>[CNN, REPORTER, EMBARRASSES, Idiotic, Response...</td>\n",
       "    </tr>\n",
       "    <tr>\n",
       "      <td>9845</td>\n",
       "      <td>Regional crises, not human rights, to dominate...</td>\n",
       "      <td>RIYADH (Reuters) - U.S. President Barack Obama...</td>\n",
       "      <td>politicsNews</td>\n",
       "      <td>April 20, 2016</td>\n",
       "      <td>True</td>\n",
       "      <td>Regional crises, not human rights, to dominate...</td>\n",
       "      <td>[Regional, crises, human, rights, dominate, Ob...</td>\n",
       "    </tr>\n",
       "    <tr>\n",
       "      <td>8368</td>\n",
       "      <td>‘Christian’ Dad Beat Daughter With Frozen Bac...</td>\n",
       "      <td>It s always amazing how many folks who claim t...</td>\n",
       "      <td>News</td>\n",
       "      <td>February 2, 2016</td>\n",
       "      <td>Fake</td>\n",
       "      <td>‘Christian’ Dad Beat Daughter With Frozen Bac...</td>\n",
       "      <td>[‘Christian’, Dad, Beat, Daughter, Frozen, Bac...</td>\n",
       "    </tr>\n",
       "    <tr>\n",
       "      <td>14923</td>\n",
       "      <td>HERE’S THE LIST Of 25 Governors Who Have Told ...</td>\n",
       "      <td>There is a also a map (below) showing which st...</td>\n",
       "      <td>politics</td>\n",
       "      <td>Nov 17, 2015</td>\n",
       "      <td>Fake</td>\n",
       "      <td>HERE’S THE LIST Of 25 Governors Who Have Told ...</td>\n",
       "      <td>[HERE’S, LIST, 25, Governors, Told, Obama, Mus...</td>\n",
       "    </tr>\n",
       "    <tr>\n",
       "      <td>961</td>\n",
       "      <td>Senate Intelligence chairman: Indictments do n...</td>\n",
       "      <td>WASHINGTON (Reuters) - U.S. Senate Intelligenc...</td>\n",
       "      <td>politicsNews</td>\n",
       "      <td>October 30, 2017</td>\n",
       "      <td>True</td>\n",
       "      <td>Senate Intelligence chairman: Indictments do n...</td>\n",
       "      <td>[Senate, Intelligence, chairman, Indictments, ...</td>\n",
       "    </tr>\n",
       "    <tr>\n",
       "      <td>9198</td>\n",
       "      <td>WATCH: PRESIDENT TRUMP CHANNELS Successful Dev...</td>\n",
       "      <td>WASHINGTON   President Trump said on Thursday ...</td>\n",
       "      <td>politics</td>\n",
       "      <td>Dec 14, 2017</td>\n",
       "      <td>Fake</td>\n",
       "      <td>WATCH: PRESIDENT TRUMP CHANNELS Successful Dev...</td>\n",
       "      <td>[WATCH, PRESIDENT, TRUMP, CHANNELS, Successful...</td>\n",
       "    </tr>\n",
       "    <tr>\n",
       "      <td>16332</td>\n",
       "      <td>BREAKING: SOURCE TELLS HOW Anthony Weiner Acci...</td>\n",
       "      <td>A source close to Anthony Weiner s legal team...</td>\n",
       "      <td>Government News</td>\n",
       "      <td>Oct 31, 2016</td>\n",
       "      <td>Fake</td>\n",
       "      <td>BREAKING: SOURCE TELLS HOW Anthony Weiner Acci...</td>\n",
       "      <td>[BREAKING, SOURCE, TELLS, Anthony, Weiner, Acc...</td>\n",
       "    </tr>\n",
       "  </tbody>\n",
       "</table>\n",
       "</div>"
      ],
      "text/plain": [
       "                                                   title  \\\n",
       "9575   JUST IN: Obama Campaign Secretly Paid $972,000...   \n",
       "15238  Lithuania says east-west schism within EU bene...   \n",
       "5275   In sweeping move, Trump puts regulation monito...   \n",
       "10814  CNN REPORTER EMBARRASSES Himself With Idiotic ...   \n",
       "9845   Regional crises, not human rights, to dominate...   \n",
       "8368    ‘Christian’ Dad Beat Daughter With Frozen Bac...   \n",
       "14923  HERE’S THE LIST Of 25 Governors Who Have Told ...   \n",
       "961    Senate Intelligence chairman: Indictments do n...   \n",
       "9198   WATCH: PRESIDENT TRUMP CHANNELS Successful Dev...   \n",
       "16332  BREAKING: SOURCE TELLS HOW Anthony Weiner Acci...   \n",
       "\n",
       "                                                    text          subject  \\\n",
       "9575   Well, well, well As a famous  reverend  once s...         politics   \n",
       "15238  WARSAW (Reuters) - Lithuania said a growing ri...        worldnews   \n",
       "5275   WASHINGTON (Reuters) - President Donald Trump ...     politicsNews   \n",
       "10814  Bob Schieffer is an old-school newsman. There ...         politics   \n",
       "9845   RIYADH (Reuters) - U.S. President Barack Obama...     politicsNews   \n",
       "8368   It s always amazing how many folks who claim t...             News   \n",
       "14923  There is a also a map (below) showing which st...         politics   \n",
       "961    WASHINGTON (Reuters) - U.S. Senate Intelligenc...     politicsNews   \n",
       "9198   WASHINGTON   President Trump said on Thursday ...         politics   \n",
       "16332   A source close to Anthony Weiner s legal team...  Government News   \n",
       "\n",
       "                     date True/Fake  \\\n",
       "9575         Oct 29, 2017      Fake   \n",
       "15238   November 9, 2017       True   \n",
       "5275   February 24, 2017       True   \n",
       "10814        May 22, 2017      Fake   \n",
       "9845      April 20, 2016       True   \n",
       "8368     February 2, 2016      Fake   \n",
       "14923        Nov 17, 2015      Fake   \n",
       "961     October 30, 2017       True   \n",
       "9198         Dec 14, 2017      Fake   \n",
       "16332        Oct 31, 2016      Fake   \n",
       "\n",
       "                                                 Article  \\\n",
       "9575   JUST IN: Obama Campaign Secretly Paid $972,000...   \n",
       "15238  Lithuania says east-west schism within EU bene...   \n",
       "5275   In sweeping move, Trump puts regulation monito...   \n",
       "10814  CNN REPORTER EMBARRASSES Himself With Idiotic ...   \n",
       "9845   Regional crises, not human rights, to dominate...   \n",
       "8368    ‘Christian’ Dad Beat Daughter With Frozen Bac...   \n",
       "14923  HERE’S THE LIST Of 25 Governors Who Have Told ...   \n",
       "961    Senate Intelligence chairman: Indictments do n...   \n",
       "9198   WATCH: PRESIDENT TRUMP CHANNELS Successful Dev...   \n",
       "16332  BREAKING: SOURCE TELLS HOW Anthony Weiner Acci...   \n",
       "\n",
       "                                              Clean Text  \n",
       "9575   [Obama, Campaign, Secretly, Paid, 972000, Fund...  \n",
       "15238  [Lithuania, says, eastwest, schism, within, EU...  \n",
       "5275   [sweeping, move, Trump, puts, regulation, moni...  \n",
       "10814  [CNN, REPORTER, EMBARRASSES, Idiotic, Response...  \n",
       "9845   [Regional, crises, human, rights, dominate, Ob...  \n",
       "8368   [‘Christian’, Dad, Beat, Daughter, Frozen, Bac...  \n",
       "14923  [HERE’S, LIST, 25, Governors, Told, Obama, Mus...  \n",
       "961    [Senate, Intelligence, chairman, Indictments, ...  \n",
       "9198   [WATCH, PRESIDENT, TRUMP, CHANNELS, Successful...  \n",
       "16332  [BREAKING, SOURCE, TELLS, Anthony, Weiner, Acc...  "
      ]
     },
     "execution_count": 15,
     "metadata": {},
     "output_type": "execute_result"
    }
   ],
   "source": [
    "news.sample(10)"
   ]
  },
  {
   "cell_type": "code",
   "execution_count": null,
   "metadata": {},
   "outputs": [],
   "source": []
  },
  {
   "cell_type": "markdown",
   "metadata": {},
   "source": [
    "## CountVectorizer"
   ]
  },
  {
   "cell_type": "code",
   "execution_count": 16,
   "metadata": {},
   "outputs": [],
   "source": [
    "from sklearn.feature_extraction.text import CountVectorizer"
   ]
  },
  {
   "cell_type": "code",
   "execution_count": 17,
   "metadata": {},
   "outputs": [
    {
     "name": "stdout",
     "output_type": "stream",
     "text": [
      "39099\n"
     ]
    }
   ],
   "source": [
    "bow_transformer = CountVectorizer(analyzer=Text_processing).fit(news['Clean Text'])\n",
    " \n",
    "#Total vocab words\n",
    "\n",
    "print(len(bow_transformer.vocabulary_))"
   ]
  },
  {
   "cell_type": "markdown",
   "metadata": {},
   "source": [
    "## Bag Of Words"
   ]
  },
  {
   "cell_type": "code",
   "execution_count": 18,
   "metadata": {},
   "outputs": [],
   "source": [
    "news_bow = bow_transformer.transform(news['Clean Text'])"
   ]
  },
  {
   "cell_type": "markdown",
   "metadata": {},
   "source": [
    "## CountVectorizer,bow_transformer example\n",
    "\n",
    "<table border = “1“>\n",
    "<tr>\n",
    "<th></th> <th>Message 1</th> <th>Message 2</th> <th>...</th> <th>Message N</th> \n",
    "</tr>\n",
    "<tr>\n",
    "<td><b>Word 1 Count</b></td><td>0</td><td>1</td><td>...</td><td>0</td>\n",
    "</tr>\n",
    "<tr>\n",
    "<td><b>Word 2 Count</b></td><td>0</td><td>0</td><td>...</td><td>0</td>\n",
    "</tr>\n",
    "<tr>\n",
    "<td><b>...</b></td> <td>1</td><td>2</td><td>...</td><td>0</td>\n",
    "</tr>\n",
    "<tr>\n",
    "<td><b>Word N Count</b></td> <td>0</td><td>1</td><td>...</td><td>1</td>\n",
    "</tr>\n",
    "</table>"
   ]
  },
  {
   "cell_type": "markdown",
   "metadata": {},
   "source": [
    "## Shape"
   ]
  },
  {
   "cell_type": "code",
   "execution_count": 19,
   "metadata": {},
   "outputs": [
    {
     "name": "stdout",
     "output_type": "stream",
     "text": [
      "Shape of Sparse Matrix:  (44898, 39099)\n",
      "Amount of Non-Zero occurences:  44898\n"
     ]
    }
   ],
   "source": [
    "print('Shape of Sparse Matrix: ', news_bow.shape)\n",
    "print('Amount of Non-Zero occurences: ', news_bow.nnz)"
   ]
  },
  {
   "cell_type": "markdown",
   "metadata": {},
   "source": [
    "## Sparsity"
   ]
  },
  {
   "cell_type": "code",
   "execution_count": 20,
   "metadata": {},
   "outputs": [
    {
     "name": "stdout",
     "output_type": "stream",
     "text": [
      "sparsity: 0\n"
     ]
    }
   ],
   "source": [
    "sparsity = (100.0 * news_bow.nnz / (news_bow.shape[0] * news_bow.shape[1]))\n",
    "print('sparsity: {}'.format(round(sparsity)))"
   ]
  },
  {
   "cell_type": "code",
   "execution_count": null,
   "metadata": {},
   "outputs": [],
   "source": []
  },
  {
   "cell_type": "markdown",
   "metadata": {},
   "source": [
    "## TF-IDF"
   ]
  },
  {
   "cell_type": "code",
   "execution_count": 21,
   "metadata": {},
   "outputs": [
    {
     "name": "stdout",
     "output_type": "stream",
     "text": [
      "(44898, 39099)\n"
     ]
    }
   ],
   "source": [
    "from sklearn.feature_extraction.text import TfidfTransformer\n",
    "\n",
    "tfidf_transformer = TfidfTransformer().fit(news_bow)\n",
    "news_tfidf = tfidf_transformer.transform(news_bow)\n",
    "print(news_tfidf.shape)"
   ]
  },
  {
   "cell_type": "markdown",
   "metadata": {},
   "source": []
  },
  {
   "cell_type": "code",
   "execution_count": null,
   "metadata": {},
   "outputs": [],
   "source": []
  },
  {
   "cell_type": "markdown",
   "metadata": {},
   "source": [
    "## Model Selection"
   ]
  },
  {
   "cell_type": "code",
   "execution_count": 22,
   "metadata": {},
   "outputs": [],
   "source": [
    "from sklearn.naive_bayes import MultinomialNB\n",
    "fakenews_detect_model = MultinomialNB().fit(news_tfidf, news['True/Fake'])"
   ]
  },
  {
   "cell_type": "code",
   "execution_count": null,
   "metadata": {},
   "outputs": [],
   "source": []
  },
  {
   "cell_type": "markdown",
   "metadata": {},
   "source": [
    "## Splitting The Data"
   ]
  },
  {
   "cell_type": "code",
   "execution_count": 23,
   "metadata": {},
   "outputs": [],
   "source": [
    "from sklearn.model_selection import train_test_split"
   ]
  },
  {
   "cell_type": "code",
   "execution_count": 24,
   "metadata": {},
   "outputs": [],
   "source": [
    "X=news[\"Article\"]\n",
    "y=news[\"True/Fake\"]"
   ]
  },
  {
   "cell_type": "code",
   "execution_count": 25,
   "metadata": {},
   "outputs": [],
   "source": [
    "X_train, X_test, y_train, y_test = train_test_split(X, y, test_size=0.3, random_state=42)"
   ]
  },
  {
   "cell_type": "markdown",
   "metadata": {},
   "source": [
    "## Creating a Pipeline & Training a model"
   ]
  },
  {
   "cell_type": "code",
   "execution_count": 26,
   "metadata": {},
   "outputs": [
    {
     "name": "stdout",
     "output_type": "stream",
     "text": [
      "Wall time: 1h 12min 17s\n"
     ]
    },
    {
     "data": {
      "text/plain": [
       "Pipeline(memory=None,\n",
       "         steps=[('bow',\n",
       "                 CountVectorizer(analyzer=<function Text_processing at 0x000001ED76FAE708>,\n",
       "                                 binary=False, decode_error='strict',\n",
       "                                 dtype=<class 'numpy.int64'>, encoding='utf-8',\n",
       "                                 input='content', lowercase=True, max_df=1.0,\n",
       "                                 max_features=None, min_df=1,\n",
       "                                 ngram_range=(1, 1), preprocessor=None,\n",
       "                                 stop_words=None, strip_accents=None,\n",
       "                                 token_pattern='(?u)\\\\b\\\\w\\\\w+\\\\b',\n",
       "                                 tokenizer=None, vocabulary=None)),\n",
       "                ('tfidf',\n",
       "                 TfidfTransformer(norm='l2', smooth_idf=True,\n",
       "                                  sublinear_tf=False, use_idf=True)),\n",
       "                ('classifier',\n",
       "                 MultinomialNB(alpha=1.0, class_prior=None, fit_prior=True))],\n",
       "         verbose=False)"
      ]
     },
     "execution_count": 26,
     "metadata": {},
     "output_type": "execute_result"
    }
   ],
   "source": [
    "%%time\n",
    "from sklearn.pipeline import Pipeline\n",
    "\n",
    "pipeline = Pipeline([\n",
    "    ('bow', CountVectorizer(analyzer=Text_processing)),  \n",
    "    ('tfidf', TfidfTransformer()),  \n",
    "    ('classifier', MultinomialNB()),  \n",
    "])\n",
    "pipeline.fit(X_train,y_train)"
   ]
  },
  {
   "cell_type": "markdown",
   "metadata": {},
   "source": [
    "## Predictions"
   ]
  },
  {
   "cell_type": "code",
   "execution_count": 27,
   "metadata": {},
   "outputs": [
    {
     "name": "stdout",
     "output_type": "stream",
     "text": [
      "Wall time: 28min 30s\n"
     ]
    }
   ],
   "source": [
    "%%time\n",
    "prediction = pipeline.predict(X_test)"
   ]
  },
  {
   "cell_type": "markdown",
   "metadata": {},
   "source": [
    "## Results"
   ]
  },
  {
   "cell_type": "code",
   "execution_count": 28,
   "metadata": {},
   "outputs": [],
   "source": [
    "from sklearn.metrics import classification_report,confusion_matrix"
   ]
  },
  {
   "cell_type": "code",
   "execution_count": 32,
   "metadata": {},
   "outputs": [
    {
     "name": "stdout",
     "output_type": "stream",
     "text": [
      "              precision    recall  f1-score   support\n",
      "\n",
      "        True       0.98      0.95      0.97      6640\n",
      "        Fake       0.96      0.98      0.97      6830\n",
      "\n",
      "    accuracy                           0.97     13470\n",
      "   macro avg       0.97      0.97      0.97     13470\n",
      "weighted avg       0.97      0.97      0.97     13470\n",
      "\n",
      "\n",
      "[[6330  310]\n",
      " [ 144 6686]]\n"
     ]
    }
   ],
   "source": [
    "print(classification_report(prediction,y_test))\n",
    "print()\n",
    "print(confusion_matrix(prediction,y_test))"
   ]
  },
  {
   "cell_type": "markdown",
   "metadata": {},
   "source": [
    "## Testing"
   ]
  },
  {
   "cell_type": "code",
   "execution_count": 57,
   "metadata": {},
   "outputs": [],
   "source": [
    "Test_news1=news.iloc[[5]]"
   ]
  },
  {
   "cell_type": "code",
   "execution_count": 58,
   "metadata": {},
   "outputs": [
    {
     "data": {
      "text/html": [
       "<div>\n",
       "<style scoped>\n",
       "    .dataframe tbody tr th:only-of-type {\n",
       "        vertical-align: middle;\n",
       "    }\n",
       "\n",
       "    .dataframe tbody tr th {\n",
       "        vertical-align: top;\n",
       "    }\n",
       "\n",
       "    .dataframe thead th {\n",
       "        text-align: right;\n",
       "    }\n",
       "</style>\n",
       "<table border=\"1\" class=\"dataframe\">\n",
       "  <thead>\n",
       "    <tr style=\"text-align: right;\">\n",
       "      <th></th>\n",
       "      <th>title</th>\n",
       "      <th>text</th>\n",
       "      <th>subject</th>\n",
       "      <th>date</th>\n",
       "      <th>True/Fake</th>\n",
       "      <th>Article</th>\n",
       "      <th>Clean Text</th>\n",
       "    </tr>\n",
       "  </thead>\n",
       "  <tbody>\n",
       "    <tr>\n",
       "      <td>5</td>\n",
       "      <td>White House, Congress prepare for talks on spe...</td>\n",
       "      <td>WEST PALM BEACH, Fla./WASHINGTON (Reuters) - T...</td>\n",
       "      <td>politicsNews</td>\n",
       "      <td>December 29, 2017</td>\n",
       "      <td>True</td>\n",
       "      <td>White House, Congress prepare for talks on spe...</td>\n",
       "      <td>[White, House, Congress, prepare, talks, spend...</td>\n",
       "    </tr>\n",
       "  </tbody>\n",
       "</table>\n",
       "</div>"
      ],
      "text/plain": [
       "                                               title  \\\n",
       "5  White House, Congress prepare for talks on spe...   \n",
       "\n",
       "                                                text       subject  \\\n",
       "5  WEST PALM BEACH, Fla./WASHINGTON (Reuters) - T...  politicsNews   \n",
       "\n",
       "                 date True/Fake  \\\n",
       "5  December 29, 2017       True   \n",
       "\n",
       "                                             Article  \\\n",
       "5  White House, Congress prepare for talks on spe...   \n",
       "\n",
       "                                          Clean Text  \n",
       "5  [White, House, Congress, prepare, talks, spend...  "
      ]
     },
     "execution_count": 58,
     "metadata": {},
     "output_type": "execute_result"
    }
   ],
   "source": [
    "Test_news1"
   ]
  },
  {
   "cell_type": "code",
   "execution_count": 59,
   "metadata": {},
   "outputs": [],
   "source": [
    "Test_news1=Test_news1.drop(\"True/Fake\",axis=1)"
   ]
  },
  {
   "cell_type": "code",
   "execution_count": 60,
   "metadata": {},
   "outputs": [
    {
     "data": {
      "text/html": [
       "<div>\n",
       "<style scoped>\n",
       "    .dataframe tbody tr th:only-of-type {\n",
       "        vertical-align: middle;\n",
       "    }\n",
       "\n",
       "    .dataframe tbody tr th {\n",
       "        vertical-align: top;\n",
       "    }\n",
       "\n",
       "    .dataframe thead th {\n",
       "        text-align: right;\n",
       "    }\n",
       "</style>\n",
       "<table border=\"1\" class=\"dataframe\">\n",
       "  <thead>\n",
       "    <tr style=\"text-align: right;\">\n",
       "      <th></th>\n",
       "      <th>title</th>\n",
       "      <th>text</th>\n",
       "      <th>subject</th>\n",
       "      <th>date</th>\n",
       "      <th>Article</th>\n",
       "      <th>Clean Text</th>\n",
       "    </tr>\n",
       "  </thead>\n",
       "  <tbody>\n",
       "    <tr>\n",
       "      <td>5</td>\n",
       "      <td>White House, Congress prepare for talks on spe...</td>\n",
       "      <td>WEST PALM BEACH, Fla./WASHINGTON (Reuters) - T...</td>\n",
       "      <td>politicsNews</td>\n",
       "      <td>December 29, 2017</td>\n",
       "      <td>White House, Congress prepare for talks on spe...</td>\n",
       "      <td>[White, House, Congress, prepare, talks, spend...</td>\n",
       "    </tr>\n",
       "  </tbody>\n",
       "</table>\n",
       "</div>"
      ],
      "text/plain": [
       "                                               title  \\\n",
       "5  White House, Congress prepare for talks on spe...   \n",
       "\n",
       "                                                text       subject  \\\n",
       "5  WEST PALM BEACH, Fla./WASHINGTON (Reuters) - T...  politicsNews   \n",
       "\n",
       "                 date                                            Article  \\\n",
       "5  December 29, 2017   White House, Congress prepare for talks on spe...   \n",
       "\n",
       "                                          Clean Text  \n",
       "5  [White, House, Congress, prepare, talks, spend...  "
      ]
     },
     "execution_count": 60,
     "metadata": {},
     "output_type": "execute_result"
    }
   ],
   "source": [
    "Test_news1"
   ]
  },
  {
   "cell_type": "code",
   "execution_count": 74,
   "metadata": {},
   "outputs": [
    {
     "data": {
      "text/plain": [
       "array([' True'], dtype='<U5')"
      ]
     },
     "execution_count": 74,
     "metadata": {},
     "output_type": "execute_result"
    }
   ],
   "source": [
    "pipeline.predict(Test_news1[\"Article\"])"
   ]
  },
  {
   "cell_type": "code",
   "execution_count": null,
   "metadata": {},
   "outputs": [],
   "source": []
  },
  {
   "cell_type": "code",
   "execution_count": 70,
   "metadata": {},
   "outputs": [],
   "source": [
    "Test_news2=news.iloc[[22000]]"
   ]
  },
  {
   "cell_type": "code",
   "execution_count": 71,
   "metadata": {},
   "outputs": [
    {
     "data": {
      "text/html": [
       "<div>\n",
       "<style scoped>\n",
       "    .dataframe tbody tr th:only-of-type {\n",
       "        vertical-align: middle;\n",
       "    }\n",
       "\n",
       "    .dataframe tbody tr th {\n",
       "        vertical-align: top;\n",
       "    }\n",
       "\n",
       "    .dataframe thead th {\n",
       "        text-align: right;\n",
       "    }\n",
       "</style>\n",
       "<table border=\"1\" class=\"dataframe\">\n",
       "  <thead>\n",
       "    <tr style=\"text-align: right;\">\n",
       "      <th></th>\n",
       "      <th>title</th>\n",
       "      <th>text</th>\n",
       "      <th>subject</th>\n",
       "      <th>date</th>\n",
       "      <th>True/Fake</th>\n",
       "      <th>Article</th>\n",
       "      <th>Clean Text</th>\n",
       "    </tr>\n",
       "  </thead>\n",
       "  <tbody>\n",
       "    <tr>\n",
       "      <td>583</td>\n",
       "      <td>Trump Goes Mental On Threats To North Korea, ...</td>\n",
       "      <td>Donald Trump has now taken his threats to Nort...</td>\n",
       "      <td>News</td>\n",
       "      <td>August 11, 2017</td>\n",
       "      <td>Fake</td>\n",
       "      <td>Trump Goes Mental On Threats To North Korea, ...</td>\n",
       "      <td>[Trump, Goes, Mental, Threats, North, Korea, D...</td>\n",
       "    </tr>\n",
       "  </tbody>\n",
       "</table>\n",
       "</div>"
      ],
      "text/plain": [
       "                                                 title  \\\n",
       "583   Trump Goes Mental On Threats To North Korea, ...   \n",
       "\n",
       "                                                  text subject  \\\n",
       "583  Donald Trump has now taken his threats to Nort...    News   \n",
       "\n",
       "                date True/Fake  \\\n",
       "583  August 11, 2017      Fake   \n",
       "\n",
       "                                               Article  \\\n",
       "583   Trump Goes Mental On Threats To North Korea, ...   \n",
       "\n",
       "                                            Clean Text  \n",
       "583  [Trump, Goes, Mental, Threats, North, Korea, D...  "
      ]
     },
     "execution_count": 71,
     "metadata": {},
     "output_type": "execute_result"
    }
   ],
   "source": [
    "Test_news2"
   ]
  },
  {
   "cell_type": "code",
   "execution_count": 72,
   "metadata": {},
   "outputs": [],
   "source": [
    "Test_news2=Test_news2.drop(\"True/Fake\",axis=1)"
   ]
  },
  {
   "cell_type": "code",
   "execution_count": 73,
   "metadata": {},
   "outputs": [
    {
     "data": {
      "text/html": [
       "<div>\n",
       "<style scoped>\n",
       "    .dataframe tbody tr th:only-of-type {\n",
       "        vertical-align: middle;\n",
       "    }\n",
       "\n",
       "    .dataframe tbody tr th {\n",
       "        vertical-align: top;\n",
       "    }\n",
       "\n",
       "    .dataframe thead th {\n",
       "        text-align: right;\n",
       "    }\n",
       "</style>\n",
       "<table border=\"1\" class=\"dataframe\">\n",
       "  <thead>\n",
       "    <tr style=\"text-align: right;\">\n",
       "      <th></th>\n",
       "      <th>title</th>\n",
       "      <th>text</th>\n",
       "      <th>subject</th>\n",
       "      <th>date</th>\n",
       "      <th>Article</th>\n",
       "      <th>Clean Text</th>\n",
       "    </tr>\n",
       "  </thead>\n",
       "  <tbody>\n",
       "    <tr>\n",
       "      <td>583</td>\n",
       "      <td>Trump Goes Mental On Threats To North Korea, ...</td>\n",
       "      <td>Donald Trump has now taken his threats to Nort...</td>\n",
       "      <td>News</td>\n",
       "      <td>August 11, 2017</td>\n",
       "      <td>Trump Goes Mental On Threats To North Korea, ...</td>\n",
       "      <td>[Trump, Goes, Mental, Threats, North, Korea, D...</td>\n",
       "    </tr>\n",
       "  </tbody>\n",
       "</table>\n",
       "</div>"
      ],
      "text/plain": [
       "                                                 title  \\\n",
       "583   Trump Goes Mental On Threats To North Korea, ...   \n",
       "\n",
       "                                                  text subject  \\\n",
       "583  Donald Trump has now taken his threats to Nort...    News   \n",
       "\n",
       "                date                                            Article  \\\n",
       "583  August 11, 2017   Trump Goes Mental On Threats To North Korea, ...   \n",
       "\n",
       "                                            Clean Text  \n",
       "583  [Trump, Goes, Mental, Threats, North, Korea, D...  "
      ]
     },
     "execution_count": 73,
     "metadata": {},
     "output_type": "execute_result"
    }
   ],
   "source": [
    "Test_news2"
   ]
  },
  {
   "cell_type": "code",
   "execution_count": 75,
   "metadata": {},
   "outputs": [
    {
     "data": {
      "text/plain": [
       "array(['Fake'], dtype='<U5')"
      ]
     },
     "execution_count": 75,
     "metadata": {},
     "output_type": "execute_result"
    }
   ],
   "source": [
    "pipeline.predict(Test_news2[\"Article\"])"
   ]
  },
  {
   "cell_type": "code",
   "execution_count": null,
   "metadata": {},
   "outputs": [],
   "source": []
  },
  {
   "cell_type": "code",
   "execution_count": null,
   "metadata": {},
   "outputs": [],
   "source": []
  },
  {
   "cell_type": "code",
   "execution_count": null,
   "metadata": {},
   "outputs": [],
   "source": []
  },
  {
   "cell_type": "code",
   "execution_count": null,
   "metadata": {},
   "outputs": [],
   "source": []
  }
 ],
 "metadata": {
  "kernelspec": {
   "display_name": "Python 3",
   "language": "python",
   "name": "python3"
  },
  "language_info": {
   "codemirror_mode": {
    "name": "ipython",
    "version": 3
   },
   "file_extension": ".py",
   "mimetype": "text/x-python",
   "name": "python",
   "nbconvert_exporter": "python",
   "pygments_lexer": "ipython3",
   "version": "3.7.4"
  }
 },
 "nbformat": 4,
 "nbformat_minor": 2
}
